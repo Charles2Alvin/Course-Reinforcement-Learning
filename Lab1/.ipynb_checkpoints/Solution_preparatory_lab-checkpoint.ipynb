{
 "cells": [
  {
   "cell_type": "code",
   "execution_count": 10,
   "metadata": {},
   "outputs": [],
   "source": [
    "import numpy as np\n",
    "import maze as mz\n",
    "import maze2 as mz2 \n",
    "import mazep3 as mz3\n",
    "import pandas as pd\n"
   ]
  },
  {
   "cell_type": "markdown",
   "metadata": {},
   "source": [
    "# Problem 1"
   ]
  },
  {
   "cell_type": "code",
   "execution_count": 11,
   "metadata": {},
   "outputs": [
    {
     "data": {
      "image/png": "[encoded data removed]",
      "text/plain": [
       "<Figure size 576x504 with 1 Axes>"
      ]
     },
     "metadata": {},
     "output_type": "display_data"
    }
   ],
   "source": [
    "# Description of the maze as a numpy array\n",
    "maze = np.array([\n",
    "    [0, 0, 1, 0, 0, 0, 0, 0],\n",
    "    [0, 0, 1, 0, 0, 1, 0, 0],\n",
    "    [0, 0, 1, 0, 0, 1, 1, 1],\n",
    "    [0, 0, 1, 0, 0, 1, 0, 0],\n",
    "    [0, 0, 0, 0, 0, 0, 0, 0],\n",
    "    [0, 1, 1, 1, 1, 1, 1, 0],\n",
    "    [0, 0, 0, 0, 1, 2, 0, 0]\n",
    "])\n",
    "# with the convention \n",
    "# 0 = empty cell\n",
    "# 1 = obstacle\n",
    "# 2 = exit of the Maze\n",
    "\n",
    "mz.draw_maze(maze)\n",
    "\n",
    "# Create an environment maze\n",
    "env = mz.Maze(maze)\n",
    "env2 = mz2.Maze(maze)\n",
    "#env.show()"
   ]
  },
  {
   "cell_type": "markdown",
   "metadata": {},
   "source": [
    "## Dynamic Programming"
   ]
  },
  {
   "cell_type": "code",
   "execution_count": 12,
   "metadata": {},
   "outputs": [],
   "source": [
    "# Finite horizon\n",
    "horizon = 30\n",
    "# Solve the MDP problem with dynamic programming \n",
    "V, policy0= mz.dynamic_programming(env,horizon);\n",
    "V2, policy02= mz2.dynamic_programming(env2,horizon);\n"
   ]
  },
  {
   "cell_type": "code",
   "execution_count": 21,
   "metadata": {
    "scrolled": true
   },
   "outputs": [],
   "source": [
    "# Simulate the shortest path starting from position A\n",
    "method = 'DynProg';\n",
    "start  = (0,0, 6, 5);\n",
    "path = env.simulate(start, policy0, method, horizon);\n",
    "path = env2.simulate(start, policy02, method, horizon);\n",
    "\n",
    "\n",
    "# Show the shortest path\n",
    "#mz.animate_solution(maze, path)"
   ]
  },
  {
   "cell_type": "code",
   "execution_count": 22,
   "metadata": {},
   "outputs": [
    {
     "name": "stdout",
     "output_type": "stream",
     "text": [
      "Probability of being eaten: 0.0\n",
      "Probability exiting: 0.408\n",
      "Probability of surviving the T=20 : 0.592\n",
      "\n",
      "Probability of being eaten: 0.0813\n",
      "Probability exiting: 0.8113\n",
      "Probability of surviving the T=20 : 0.1074\n"
     ]
    }
   ],
   "source": [
    "# Model minotaur in reward\n",
    "results = env.sample(start, policy0, method, horizon, 10000)\n",
    "print(\"Probability of being eaten:\",results[0])\n",
    "print(\"Probability exiting:\", results[1])\n",
    "print(\"Probability of surviving the T=20 :\",results[2])\n",
    "\n",
    "print(\"\")\n",
    "# Model minotaur in transition probability\n",
    "results = env2.sample(start, policy02, method, horizon, 10000)\n",
    "print(\"Probability of being eaten:\",results[0])\n",
    "print(\"Probability exiting:\", results[1])\n",
    "print(\"Probability of surviving the T=20 :\",results[2])\n"
   ]
  },
  {
   "cell_type": "code",
   "execution_count": 42,
   "metadata": {},
   "outputs": [
    {
     "data": {
      "image/png": "[encoded data removed]",
      "text/plain": [
       "<Figure size 432x288 with 1 Axes>"
      ]
     },
     "metadata": {
      "needs_background": "light"
     },
     "output_type": "display_data"
    }
   ],
   "source": [
    "import matplotlib.pyplot as plt\n",
    "plot_s = list()\n",
    "plot_s2 = list()\n",
    "plot_t = list()\n",
    "for t in range(1,57,3):\n",
    "    V, policy0= mz.dynamic_programming(env,t);\n",
    "    V2, policy02= mz2.dynamic_programming(env2,t);\n",
    "    results = env.sample(start, policy0, method, t, 10000)\n",
    "    results2 = env2.sample(start, policy02, method, t, 10000)\n",
    "    plot_s.append(results[1])\n",
    "    plot_s2.append(results2[1])\n",
    "    plot_t.append(t)\n",
    "                     \n",
    "plt.plot(plot_t, plot_s2, label = 'Minotaur modeled in reward')\n",
    "plt.plot(plot_t, plot_s, label = 'Minotaur modeled in transition probability')\n",
    "plt.xlabel(\"Time horizon, T\")\n",
    "plt.ylabel(\"Probability of exiting\")\n",
    "plt.legend()\n",
    "plt.show()"
   ]
  },
  {
   "cell_type": "code",
   "execution_count": null,
   "metadata": {},
   "outputs": [],
   "source": [
    "plot_s = list()\n",
    "plot_s2 = list()\n",
    "plot_t = list()\n",
    "for t in range(1,57,3):\n",
    "    V, policy0= mz.dynamic_programming(env,t);\n",
    "    V2, policy02= mz2.dynamic_programming(env2,t);\n",
    "    results = env.sample(start, policy0, method, t, 10000)\n",
    "    results2 = env2.sample(start, policy02, method, t, 10000)\n",
    "    plot_s.append(results[0])\n",
    "    plot_s2.append(results2[0])\n",
    "    plot_t.append(t)\n",
    "                     \n",
    "plt.plot(plot_t, plot_s2, label = 'Minotaur modeled in reward')\n",
    "plt.plot(plot_t, plot_s, label = 'Minotaur modeled in transition probability')\n",
    "plt.xlabel(\"Time horizon, T\")\n",
    "plt.ylabel(\"Probability of getting eaten\")\n",
    "plt.legend()\n",
    "plt.show()"
   ]
  },
  {
   "cell_type": "markdown",
   "metadata": {},
   "source": [
    "## Value Iteration"
   ]
  },
  {
   "cell_type": "code",
   "execution_count": 43,
   "metadata": {},
   "outputs": [],
   "source": [
    "gamma   = 0.95\n",
    "epsilon = 0.0001\n",
    "V, policy1= mz.value_iteration(env, gamma, epsilon)"
   ]
  },
  {
   "cell_type": "code",
   "execution_count": 22,
   "metadata": {
    "scrolled": true
   },
   "outputs": [],
   "source": [
    "# Simulate the shortest path starting from position A\n",
    "method = 'ValIter';\n",
    "start  = (0,0, 5,5);\n",
    "path = env.simulate(start, policy1, method, 20);\n",
    "# Show the shortest path\n",
    "#mz.animate_solution(maze, path)"
   ]
  },
  {
   "cell_type": "code",
   "execution_count": 23,
   "metadata": {
    "scrolled": true
   },
   "outputs": [
    {
     "name": "stdout",
     "output_type": "stream",
     "text": [
      "Probability of being eaten: 0.0\n",
      "Probability exiting: 0.0672\n",
      "Probability of surviving the T=20 steps: 0.9328\n"
     ]
    }
   ],
   "source": [
    "results = env.sample(start, policy1, method, 20, 10000)\n",
    "print(\"Probability of being eaten:\",results[0])\n",
    "print(\"Probability exiting:\", results[1])\n",
    "print(\"Probability of surviving the T=20 steps:\",results[2])"
   ]
  },
  {
   "cell_type": "markdown",
   "metadata": {},
   "source": [
    "## Policy Iteration"
   ]
  },
  {
   "cell_type": "code",
   "execution_count": 5,
   "metadata": {},
   "outputs": [
    {
     "ename": "KeyboardInterrupt",
     "evalue": "",
     "output_type": "error",
     "traceback": [
      "\u001b[0;31m---------------------------------------------------------------------------\u001b[0m",
      "\u001b[0;31mKeyboardInterrupt\u001b[0m                         Traceback (most recent call last)",
      "\u001b[0;32m<ipython-input-5-419a5db66e8e>\u001b[0m in \u001b[0;36m<module>\u001b[0;34m\u001b[0m\n\u001b[1;32m      1\u001b[0m \u001b[0mgamma\u001b[0m   \u001b[0;34m=\u001b[0m \u001b[0;36m0.95\u001b[0m\u001b[0;34m\u001b[0m\u001b[0;34m\u001b[0m\u001b[0m\n\u001b[0;32m----> 2\u001b[0;31m \u001b[0mV\u001b[0m\u001b[0;34m,\u001b[0m \u001b[0mpolicy2\u001b[0m\u001b[0;34m=\u001b[0m \u001b[0mmz\u001b[0m\u001b[0;34m.\u001b[0m\u001b[0mpolicy_iteration\u001b[0m\u001b[0;34m(\u001b[0m\u001b[0menv\u001b[0m\u001b[0;34m,\u001b[0m \u001b[0mgamma\u001b[0m\u001b[0;34m)\u001b[0m\u001b[0;34m\u001b[0m\u001b[0;34m\u001b[0m\u001b[0m\n\u001b[0m",
      "\u001b[0;32m~/Course-Reinforcement-Learning/Lab1/maze.py\u001b[0m in \u001b[0;36mpolicy_iteration\u001b[0;34m(env, gamma)\u001b[0m\n\u001b[1;32m    454\u001b[0m         \u001b[0;32mfor\u001b[0m \u001b[0ms\u001b[0m \u001b[0;32min\u001b[0m \u001b[0mrange\u001b[0m\u001b[0;34m(\u001b[0m\u001b[0mn_states\u001b[0m\u001b[0;34m)\u001b[0m\u001b[0;34m:\u001b[0m\u001b[0;34m\u001b[0m\u001b[0;34m\u001b[0m\u001b[0m\n\u001b[1;32m    455\u001b[0m             \u001b[0;32mfor\u001b[0m \u001b[0ma\u001b[0m \u001b[0;32min\u001b[0m \u001b[0mrange\u001b[0m\u001b[0;34m(\u001b[0m\u001b[0mn_actions\u001b[0m\u001b[0;34m)\u001b[0m\u001b[0;34m:\u001b[0m\u001b[0;34m\u001b[0m\u001b[0;34m\u001b[0m\u001b[0m\n\u001b[0;32m--> 456\u001b[0;31m                 \u001b[0mQ\u001b[0m\u001b[0;34m[\u001b[0m\u001b[0ms\u001b[0m\u001b[0;34m,\u001b[0m\u001b[0ma\u001b[0m\u001b[0;34m]\u001b[0m \u001b[0;34m=\u001b[0m \u001b[0mr\u001b[0m\u001b[0;34m[\u001b[0m\u001b[0ms\u001b[0m\u001b[0;34m,\u001b[0m \u001b[0ma\u001b[0m\u001b[0;34m]\u001b[0m \u001b[0;34m+\u001b[0m \u001b[0mgamma\u001b[0m\u001b[0;34m*\u001b[0m\u001b[0mnp\u001b[0m\u001b[0;34m.\u001b[0m\u001b[0mdot\u001b[0m\u001b[0;34m(\u001b[0m\u001b[0mp\u001b[0m\u001b[0;34m[\u001b[0m\u001b[0;34m:\u001b[0m\u001b[0;34m,\u001b[0m\u001b[0ms\u001b[0m\u001b[0;34m,\u001b[0m\u001b[0ma\u001b[0m\u001b[0;34m]\u001b[0m\u001b[0;34m,\u001b[0m\u001b[0mV\u001b[0m\u001b[0;34m)\u001b[0m\u001b[0;34m;\u001b[0m\u001b[0;34m\u001b[0m\u001b[0;34m\u001b[0m\u001b[0m\n\u001b[0m\u001b[1;32m    457\u001b[0m         \u001b[0mBpolicy\u001b[0m \u001b[0;34m=\u001b[0m \u001b[0mnp\u001b[0m\u001b[0;34m.\u001b[0m\u001b[0margmax\u001b[0m\u001b[0;34m(\u001b[0m\u001b[0mQ\u001b[0m\u001b[0;34m,\u001b[0m\u001b[0;36m1\u001b[0m\u001b[0;34m)\u001b[0m\u001b[0;34m;\u001b[0m\u001b[0;34m\u001b[0m\u001b[0;34m\u001b[0m\u001b[0m\n\u001b[1;32m    458\u001b[0m         \u001b[0;31m# Show error\u001b[0m\u001b[0;34m\u001b[0m\u001b[0;34m\u001b[0m\u001b[0;34m\u001b[0m\u001b[0m\n",
      "\u001b[0;32m<__array_function__ internals>\u001b[0m in \u001b[0;36mdot\u001b[0;34m(*args, **kwargs)\u001b[0m\n",
      "\u001b[0;31mKeyboardInterrupt\u001b[0m: "
     ]
    }
   ],
   "source": [
    "gamma   = 0.95\n",
    "V, policy2= mz.policy_iteration(env, gamma)"
   ]
  },
  {
   "cell_type": "code",
   "execution_count": null,
   "metadata": {},
   "outputs": [],
   "source": [
    "# Simulate the shortest path starting from position A\n",
    "method = 'PolIter';\n",
    "start  = (0,0, 5,5);\n",
    "path = env.simulate(start, policy2, method, horizon);\n",
    "# Show the shortest path\n",
    "mz.animate_solution(maze, path)"
   ]
  },
  {
   "cell_type": "code",
   "execution_count": null,
   "metadata": {},
   "outputs": [],
   "source": [
    "results = env.sample(start, policy2, method, 10000, horizon)\n",
    "print(\"Probability of being eaten:\",results[0])\n",
    "print(\"Probability exiting:\", results[1])\n",
    "print(\"Probability of surviving the T=20 steps:\",results[2])"
   ]
  },
  {
   "cell_type": "markdown",
   "metadata": {},
   "source": [
    "# Problem 3"
   ]
  },
  {
   "cell_type": "code",
   "execution_count": 2,
   "metadata": {
    "scrolled": true
   },
   "outputs": [],
   "source": [
    "# Description of the maze as a numpy array\n",
    "maze3 = np.array([\n",
    "    [0, 0, 0, 0],\n",
    "    [0, 2, 0, 0],\n",
    "    [0, 0, 0, 0],\n",
    "    [0, 0, 0, 0]])\n",
    "\n",
    "# with the convention \n",
    "# 0 = empty cell\n",
    "# 1 = obstacle\n",
    "# 2 = exit of the Maze\n",
    "\n",
    "#mz3.draw_maze(maze3)\n",
    "env3 = mz3.Maze(maze3)\n",
    "T = 20\n",
    "\n"
   ]
  },
  {
   "cell_type": "markdown",
   "metadata": {},
   "source": [
    "## Q-Learning"
   ]
  },
  {
   "cell_type": "code",
   "execution_count": 5,
   "metadata": {},
   "outputs": [
    {
     "data": {
      "image/png": "[encoded data removed]",
      "text/plain": [
       "<Figure size 432x288 with 1 Axes>"
      ]
     },
     "metadata": {
      "needs_background": "light"
     },
     "output_type": "display_data"
    }
   ],
   "source": [
    "gamma3   = 0.8\n",
    "Q, policy3 = mz3.Q_learning(env3, gamma3)"
   ]
  },
  {
   "cell_type": "code",
   "execution_count": 6,
   "metadata": {
    "scrolled": true
   },
   "outputs": [
    {
     "data": {
      "image/png": "[encoded data removed]",
      "text/plain": [
       "<Figure size 288x288 with 1 Axes>"
      ]
     },
     "metadata": {},
     "output_type": "display_data"
    }
   ],
   "source": [
    "# Simulate the shortest path starting from position A\n",
    "method = 'ValIter';\n",
    "start  = (0,0,1,1);\n",
    "path = env3.simulate(start, policy3, method,100);\n",
    "# Show the shortest path\n",
    "mz3.animate_solution(maze3, path)\n"
   ]
  },
  {
   "cell_type": "markdown",
   "metadata": {},
   "source": [
    "## SARSA"
   ]
  },
  {
   "cell_type": "code",
   "execution_count": 3,
   "metadata": {},
   "outputs": [
    {
     "data": {
      "image/png": "[encoded data removed]",
      "text/plain": [
       "<Figure size 432x288 with 1 Axes>"
      ]
     },
     "metadata": {
      "needs_background": "light"
     },
     "output_type": "display_data"
    }
   ],
   "source": [
    "gamma3   = 0.8\n",
    "epsilon3 = 0.1\n",
    "Q, policy3 = mz3.SARSA(env3, gamma3, epsilon3)"
   ]
  },
  {
   "cell_type": "code",
   "execution_count": null,
   "metadata": {},
   "outputs": [
    {
     "data": {
      "image/png": "[encoded data removed]",
      "text/plain": [
       "<Figure size 288x288 with 1 Axes>"
      ]
     },
     "metadata": {},
     "output_type": "display_data"
    }
   ],
   "source": [
    "# Simulate the shortest path starting from position A\n",
    "method = 'ValIter';\n",
    "start  = (0,0,1,1);\n",
    "path = env3.simulate(start, policy3, method,100);\n",
    "# Show the shortest path\n",
    "mz3.animate_solution(maze3, path)\n"
   ]
  }
 ],
 "metadata": {
  "@webio": {
   "lastCommId": null,
   "lastKernelId": null
  },
  "kernelspec": {
   "display_name": "Python 3",
   "language": "python",
   "name": "python3"
  },
  "language_info": {
   "codemirror_mode": {
    "name": "ipython",
    "version": 3
   },
   "file_extension": ".py",
   "mimetype": "text/x-python",
   "name": "python",
   "nbconvert_exporter": "python",
   "pygments_lexer": "ipython3",
   "version": "3.7.4"
  }
 },
 "nbformat": 4,
 "nbformat_minor": 2
}
